{
  "nbformat": 4,
  "nbformat_minor": 0,
  "metadata": {
    "colab": {
      "name": "dotNetColab.ipynb",
      "provenance": []
    },
    "kernelspec": {
      "name": "python3",
      "display_name": "Python 3"
    },
    "language_info": {
      "name": "python"
    }
  },
  "cells": [
    {
      "cell_type": "markdown",
      "metadata": {
        "id": "Pd68kAewkqRA"
      },
      "source": [
        "## Copyrighted By Seyed Mohammad Hossein Sefidgar 🚀\n",
        "### Click below button to be directed to Colaboratory. Enjoy!"
      ]
    },
    {
      "cell_type": "markdown",
      "metadata": {
        "id": "V_Tuqcz0kshw"
      },
      "source": [
        "<a href=\"https://colab.research.google.com/github/AI-Professionals/All-Languages-on-the-cloud---Colab/blob/main/dotNetColab.ipynb\" target=\"_parent\"><img src=\"https://colab.research.google.com/assets/colab-badge.svg\" alt=\"Open In Colab\"/></a>"
      ]
    },
    {
      "cell_type": "code",
      "metadata": {
        "id": "KyoNmchjjszV"
      },
      "source": [
        "! wget -q https://packages.microsoft.com/config/ubuntu/18.04/packages-microsoft-prod.deb -O packages-microsoft-prod.deb\n",
        "! dpkg -i packages-microsoft-prod.deb\n",
        "! add-apt-repository universe\n",
        "! apt-get update\n",
        "! apt-get install apt-transport-https\n",
        "! apt-get update\n",
        "! apt-get install dotnet-sdk-3.1"
      ],
      "execution_count": null,
      "outputs": []
    },
    {
      "cell_type": "code",
      "metadata": {
        "id": "FL0_g_l3kKDx"
      },
      "source": [
        "! dotnet --list-sdks"
      ],
      "execution_count": null,
      "outputs": []
    }
  ]
}
