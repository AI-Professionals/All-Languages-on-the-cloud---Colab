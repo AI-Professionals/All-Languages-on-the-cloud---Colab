{
  "nbformat": 4,
  "nbformat_minor": 0,
  "metadata": {
    "colab": {
      "name": "Octave.ipynb",
      "provenance": []
    },
    "kernelspec": {
      "name": "octave",
      "display_name": "Octave"
    },
    "language_info": {
      "name": "python"
    }
  },
  "cells": [
    {
      "cell_type": "markdown",
      "metadata": {
        "id": "h1mT0yV6JCUR"
      },
      "source": [
        "## Copyrighted By Seyed Mohammad Hossein Sefidgar 🚀\n",
        "### Click below button to be directed to Colaboratory. Enjoy!"
      ]
    },
    {
      "cell_type": "markdown",
      "metadata": {
        "id": "view-in-github"
      },
      "source": [
        "<a href=\"https://colab.research.google.com/github/AI-Professionals/All-Languages-on-the-cloud---Colab/blob/main/Octave.ipynb\" target=\"_parent\"><img src=\"https://colab.research.google.com/assets/colab-badge.svg\" alt=\"Open In Colab\"/></a>"
      ]
    },
    {
      "cell_type": "code",
      "metadata": {
        "id": "QsPmaHAhMalw"
      },
      "source": [
        "%%capture\n",
        "! wget https://repo.anaconda.com/miniconda/Miniconda3-py37_4.8.2-Linux-x86_64.sh \n",
        "! chmod +x Miniconda3-py37 _4.8.2-Linux-x86_64.sh \n",
        "! bash ./Miniconda3-py37_4.8.2-Linux-x86_64.sh -y -b -f -p /content/miniconda "
      ],
      "execution_count": 1,
      "outputs": []
    },
    {
      "cell_type": "code",
      "metadata": {
        "id": "At_TWJz5bExp"
      },
      "source": [
        "!ln -s /content/miniconda/bin/conda ./conda \n",
        "!ln -s /content/miniconda/bin/jupyter ./jupyter "
      ],
      "execution_count": 2,
      "outputs": []
    },
    {
      "cell_type": "code",
      "metadata": {
        "id": "M9Fec9M__ExS"
      },
      "source": [
        "%%capture\n",
        "!./conda install -y jupyterlab -c conda-forge\n",
        "!./conda install -y -c conda-forge octave\n",
        "!./conda install -y -c conda-forge octave_kernel\n",
        "!echo deb http://deb.debian.org/debian stretch-backports main | sudo tee /etc/apt/sources.list.d/stretch-backports.list\n",
        "!sudo apt update\n",
        "!sudo apt install -t stretch-backports octave\n",
        "!sudo apt install liboctave-dev \n",
        "!sudo apt-get update\n",
        "!lsb_release -a\n",
        "!sudo apt install octave\n",
        "!mkdir ~/octavePlots\n",
        "!pip install octave-kernel\n",
        "!echo export OCTAVE_EXECUTABLE=\"/usr/bin/octave\" >> ~/.bashrc"
      ],
      "execution_count": 3,
      "outputs": []
    },
    {
      "cell_type": "code",
      "metadata": {
        "id": "yB06Uf5I73t-"
      },
      "source": [
        "!./conda install -y -c conda-forge sregistry-swift"
      ],
      "execution_count": null,
      "outputs": []
    },
    {
      "cell_type": "code",
      "metadata": {
        "id": "Tq7z3WHPSU6D"
      },
      "source": [
        "get_ipython().system_raw('./jupyter lab --ip 0.0.0.0 --port 13000 --no-browser --allow-root &')"
      ],
      "execution_count": 5,
      "outputs": []
    },
    {
      "cell_type": "code",
      "metadata": {
        "id": "_EWEYqZmayIp"
      },
      "source": [
        "!pip install pyngrok --quiet\n",
        "\n",
        "from pyngrok import ngrok\n",
        "\n",
        "# Terminate open tunnels if exist\n",
        "\n",
        "ngrok.kill()\n",
        "\n",
        "# Setting the authtoken (optional)\n",
        "\n",
        "# Get your authtoken from https://dashboard.ngrok.com/auth \n",
        "NGROK_AUTH_TOKEN = \"\" \n",
        "ngrok.set_auth_token(NGROK_AUTH_TOKEN) "
      ],
      "execution_count": null,
      "outputs": []
    },
    {
      "cell_type": "code",
      "metadata": {
        "id": "D1CjPY5Ea5-x"
      },
      "source": [
        "!./jupyter server list"
      ],
      "execution_count": null,
      "outputs": []
    },
    {
      "cell_type": "code",
      "metadata": {
        "id": "EpRhniJaa3Xo"
      },
      "source": [
        "ngrok.connect(13000)"
      ],
      "execution_count": null,
      "outputs": []
    }
  ]
}
