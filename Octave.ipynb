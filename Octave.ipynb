{
  "nbformat": 4,
  "nbformat_minor": 0,
  "metadata": {
    "colab": {
      "name": "Octave.ipynb",
      "provenance": []
    },
    "kernelspec": {
      "display_name": "Octave",
      "language": "octave",
      "name": "octave"
  },
    "language_info": {
      "codemirror_mode": "text/x-c++src",
      "file_extension": ".cpp",
      "mimetype": "text/x-c++src",
      "name": "c++",
      "version": "11"
    }
  },
  "cells": [
    {
      "cell_type": "markdown",
      "metadata": {
        "id": "h1mT0yV6JCUR"
      },
      "source": [
        "## Copyrighted By Seyed Mohammad Hossein Sefidgar 🚀\n",
        "### Click below button to be directed to Colaboratory. Enjoy!"
      ]
    },
    {
      "cell_type": "markdown",
      "metadata": {
        "id": "view-in-github"
      },
      "source": [
        "<a href=\"https://colab.research.google.com/github/AI-Professionals/All-Languages-on-the-cloud---Colab/blob/main/Octave.ipynb\" target=\"_parent\"><img src=\"https://colab.research.google.com/assets/colab-badge.svg\" alt=\"Open In Colab\"/></a>"
      ]
    },
    {
      "cell_type": "code",
      "metadata": {
        "id": "QsPmaHAhMalw"
      },
      "source": [
        "%%capture\n",
        "! wget https://repo.anaconda.com/miniconda/Miniconda3-py37_4.8.2-Linux-x86_64.sh \n",
        "! chmod +x Miniconda3-py37 _4.8.2-Linux-x86_64.sh \n",
        "! bash ./Miniconda3-py37_4.8.2-Linux-x86_64.sh -y -b -f -p /content/miniconda "
      ],
      "execution_count": null,
      "outputs": []
    },
    {
      "cell_type": "code",
      "metadata": {
        "id": "At_TWJz5bExp"
      },
      "source": [
        "!ln -s /content/miniconda/bin/conda ./conda \n",
        "!ln -s /content/miniconda/bin/jupyter ./jupyter "
      ],
      "execution_count": null,
      "outputs": []
    },
    {
      "cell_type": "code",
      "metadata": {
        "id": "M9Fec9M__ExS"
      },
      "source": [
        "!./conda install -y jupyterlab -c conda-forge\n",
        "!./conda install -y -c conda-forge octave\n",
        "!./conda install -y -c conda-forge octave_kernel"
      ],
      "execution_count": null,
      "outputs": []
    },
    {
      "cell_type": "code",
      "metadata": {
        "id": "EyB5TcRm-j35"
      },
      "source": [
        "get_ipython().system_raw('./jupyter lab --ip 0.0.0.0 --port 13000 --no-browser --allow-root &')"
      ],
      "execution_count": null,
      "outputs": []
    },
    {
      "cell_type": "code",
      "metadata": {
        "id": "D1CjPY5Ea5-x"
      },
      "source": [
        "!./jupyter server list"
      ],
      "execution_count": null,
      "outputs": []
    },
    {
      "cell_type": "code",
      "metadata": {
        "id": "_EWEYqZmayIp"
      },
      "source": [
        "!pip install pyngrok --quiet\n",
        "\n",
        "from pyngrok import ngrok\n",
        "\n",
        "# Terminate open tunnels if exist\n",
        "\n",
        "ngrok.kill()\n",
        "\n",
        "# Setting the authtoken (optional)\n",
        "\n",
        "# Get your authtoken from https://dashboard.ngrok.com/auth \n",
        "NGROK_AUTH_TOKEN = \"\" \n",
        "ngrok.set_auth_token(NGROK_AUTH_TOKEN) "
      ],
      "execution_count": null,
      "outputs": []
    },
    {
      "cell_type": "code",
      "metadata": {
        "id": "EpRhniJaa3Xo"
      },
      "source": [
        "ngrok.connect(13000)"
      ],
      "execution_count": null,
      "outputs": []
    }
  ]
}
