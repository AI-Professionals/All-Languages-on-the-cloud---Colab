{
 "cells": [
  {
   "cell_type": "markdown",
   "id": "41d2c03c",
   "metadata": {
    "colab_type": "text",
    "id": "view-in-github"
   },
   "source": [
    "## Copyrighted By Seyed Mohammad Hossein Sefidgar 🚀\n",
    "### Click below button to be directed to Colaboratory. Enjoy!"
   ]
  },
       {
      "cell_type": "markdown",
      "metadata": {
        "id": "view-in-github",
        "colab_type": "text"
      },
      "source": [
        "<a href=\"https://colab.research.google.com/github/AI-Professionals/All-Languages-on-the-cloud---Colab/blob/main/Octave.ipynb\" target=\"_parent\"><img src=\"https://colab.research.google.com/assets/colab-badge.svg\" alt=\"Open In Colab\"/></a>"
      ]
    },
  {
      "cell_type": "code",
      "metadata": {
        "id": "cdfa3bcf-2e99-4086-a88f-258797981bcd"
      },
      "source": [
        "%%capture\n",
        "!apt install octave\n",
        "!pip install oct2py\n",
        "\n",
        "import oct2py\n",
        "\n",
        "from oct2py import octave as oct"
      ],
      "id": "cdfa3bcf-2e99-4086-a88f-258797981bcd",
      "execution_count": 2,
      "outputs": []
    },
    {
      "cell_type": "code",
      "metadata": {
        "id": "DrSDQQQSCC2Q"
      },
      "source": [
        "%load_ext oct2py.ipython"
      ],
      "id": "DrSDQQQSCC2Q",
      "execution_count": 3,
      "outputs": []
    }

  {
   "cell_type": "code",
   "execution_count": null,
   "id": "cdfa3bcf-2e99-4086-a88f-258797981bcd",
   "metadata": {},
   "outputs": [],
   "source": []
  }
 ],
 "metadata": {
  "colab": {
   "include_colab_link": true,
   "name": "Octav.ipynb",
   "provenance": []
  },
  "kernelspec": {
   "display_name": "Octave",
   "language": "octave",
   "name": "octave"
  },
  "language_info": {
   "name": ""
  },
  "widgets": {
   "application/vnd.jupyter.widget-state+json": {
    "state": {},
    "version_major": 2,
    "version_minor": 0
   }
  }
 },
 "nbformat": 4,
 "nbformat_minor": 5
}
