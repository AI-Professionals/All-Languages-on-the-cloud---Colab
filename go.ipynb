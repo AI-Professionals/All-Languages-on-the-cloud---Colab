{
 "cells": [
  {
   "cell_type": "markdown",
   "metadata": {},
   "source": [
    "## Copyrighted By Seyed Mohammad Hossein Sefidgar 🚀\n",
    "### Click below button to be directed to Colaboratory. Enjoy!"
   ]
  },
        {
      "cell_type": "markdown",
      "metadata": {
        "id": "view-in-github",
        "colab_type": "text"
      },
      "source": [
        "<a href=\"https://colab.research.google.com/github/AI-Professionals/All-Languages-on-the-cloud---Colab/blob/main/go.ipynb\" target=\"_parent\"><img src=\"https://colab.research.google.com/assets/colab-badge.svg\" alt=\"Open In Colab\"/></a>"
      ]
    },

  {
   "cell_type": "code",
   "execution_count": null,
   "metadata": {},
   "outputs": [],
   "source": [# run this cell first time using python runtime ## Update package-registry ! add-apt-repository ppa:longsleep/golang-backports -y ! apt update ## Install golang and set env-vars ! apt install golang-go GOPATH="/root/go" ! export GOPATH ## Install gophernotes REPO_PACKAGE="github.com/gopherdata/gophernotes" ! go get -u $REPO_PACKAGE ! cp "$GOPATH/bin/gophernotes" /usr/bin/ ## Clone gophernotes repo REPO_REMOTE=f"https://{REPO_PACKAGE}" REPO_LOCAL=f"{GOPATH}/src/{REPO_PACKAGE}" ! mkdir -p $REPO_LOCAL ! git clone "$REPO_REMOTE" "$REPO_LOCAL" || \ (cd "$REPO_LOCAL" ; git pull) ! cd /content/ ## Copy files under kernel directory GOPHERNOTES_KERNELS="/usr/local/share/jupyter/kernels/gophernotes" ! mkdir -p $GOPHERNOTES_KERNELS ! cp $REPO_LOCAL/kernel/* $GOPHERNOTES_KERNELS # then refresh, it will now use gophernotes. Skip to golang in later cells
       ]
  }
 ],
 "metadata": {
  "colab": {
   "collapsed_sections": [],
   "include_colab_link": true,
   "name": "golang.ipynb",
   "provenance": []
  },
  "kernelspec": {
   "display_name": "Go",
   "name": "gophernotes"
  },
  "language_info": {
   "name": ""
  },
  "widgets": {
   "application/vnd.jupyter.widget-state+json": {
    "state": {},
    "version_major": 2,
    "version_minor": 0
   }
  }
 },
 "nbformat": 4,
 "nbformat_minor": 4
}
