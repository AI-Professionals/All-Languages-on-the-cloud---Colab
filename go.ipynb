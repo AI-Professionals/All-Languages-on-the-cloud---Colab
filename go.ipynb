{
  "nbformat": 4,
  "nbformat_minor": 0,
  "metadata": {
    "colab": {
      "name": "golang.ipynb",
      "provenance": [],
      "collapsed_sections": []
    },
    "kernelspec": {
      "display_name": "Go",
      "name": "gophernotes"
    },
    "language_info": {
      "name": ""
    }
  },
  "cells": [
    {
      "cell_type": "markdown",
      "metadata": {
        "id": "PAKZzd9z5-SL"
      },
      "source": [
        "## Copyrighted By Seyed Mohammad Hossein Sefidgar 🚀\n",
        "### Click below button to be directed to Colaboratory. \n",
        "### and Install Golang program by executing first cell, Enjoy!"
      ]
    },
    {
      "cell_type": "markdown",
      "metadata": {
        "id": "view-in-github"
      },
      "source": [
        "<a href=\"https://colab.research.google.com/github/AI-Professionals/All-Languages-on-the-cloud---Colab/blob/main/go.ipynb\" target=\"_parent\"><img src=\"https://colab.research.google.com/assets/colab-badge.svg\" alt=\"Open In Colab\"/></a>"
      ]
    },
    {
      "cell_type": "code",
      "metadata": {
        "id": "rQ4sjzi-yjU8"
      },
      "source": [
        "%%capture\n",
        "# run this cell first time using python runtime\n",
        "## Update package-registry\n",
        "! add-apt-repository ppa:longsleep/golang-backports -y\n",
        "! apt update\n",
        "## Install golang and set env-vars\n",
        "! apt install golang-go\n",
        "GOPATH=\"/root/go\"\n",
        "! export GOPATH\n",
        "## Install gophernotes\n",
        "REPO_PACKAGE=\"github.com/gopherdata/gophernotes\"\n",
        "! go get -u $REPO_PACKAGE\n",
        "! cp \"$GOPATH/bin/gophernotes\" /usr/bin/\n",
        "\n",
        "## Clone gophernotes repo\n",
        "REPO_REMOTE=f\"https://{REPO_PACKAGE}\"\n",
        "REPO_LOCAL=f\"{GOPATH}/src/{REPO_PACKAGE}\"\n",
        "! mkdir -p $REPO_LOCAL\n",
        "! git clone \"$REPO_REMOTE\" \"$REPO_LOCAL\" || \\\n",
        "    (cd \"$REPO_LOCAL\" ; git pull)\n",
        "! cd /content/\n",
        "## Copy files under kernel directory\n",
        "GOPHERNOTES_KERNELS=\"/usr/local/share/jupyter/kernels/gophernotes\"\n",
        "! mkdir -p $GOPHERNOTES_KERNELS\n",
        "! cp $REPO_LOCAL/kernel/* $GOPHERNOTES_KERNELS\n",
        "# then refresh, it will now use gophernotes. Skip to golang in later cells"
      ],
      "execution_count": null,
      "outputs": []
    },
    {
      "cell_type": "code",
      "metadata": {
        "id": "uuH1Y7m16Db0"
      },
      "source": [
        ""
      ],
      "execution_count": null,
      "outputs": []
    }
  ]
}
