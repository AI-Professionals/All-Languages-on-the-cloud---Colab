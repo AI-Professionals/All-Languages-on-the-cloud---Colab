{
  "nbformat": 4,
  "nbformat_minor": 0,
  "metadata": {
    "colab": {
      "name": "C-Plus-Plus.ipynb",
      "provenance": []
    },
    "kernelspec": {
      "display_name": "Xeus-C++11",
      "language": "C++11",
      "name": "xeus-cling-cpp11"
    },
    "language_info": {
      "codemirror_mode": "text/x-c++src",
      "file_extension": ".cpp",
      "mimetype": "text/x-c++src",
      "name": "c++",
      "version": "11"
    }
  },
  "cells": [
    {
      "cell_type": "markdown",
      "metadata": {
        "id": "h1mT0yV6JCUR"
      },
      "source": [
        "## Copyrighted By Seyed Mohammad Hossein Sefidgar 🚀\n",
        "### Click below button to be directed to Colaboratory. Enjoy!"
      ]
    },
    {
      "cell_type": "markdown",
      "metadata": {
        "id": "view-in-github"
      },
      "source": [
        "<a href=\"https://colab.research.google.com/github/AI-Professionals/All-Languages-on-the-cloud---Colab/blob/main/C-plus-plus.ipynb\" target=\"_parent\"><img src=\"https://colab.research.google.com/assets/colab-badge.svg\" alt=\"Open In Colab\"/></a>"
      ]
    },
    {
      "cell_type": "code",
      "metadata": {
        "colab": {
          "base_uri": "https://localhost:8080/",
          "height": 321
        },
        "id": "KlIxJMpnJCUX",
        "outputId": "71731c24-0a99-4612-bbbd-7d5c4bcb5673"
      },
      "source": [
        "from IPython.display import YouTubeVideo\n",
        "YouTubeVideo(\"UN05dI20I_0\")"
      ],
      "execution_count": 15,
      "outputs": [
        {
          "output_type": "execute_result",
          "data": {
            "text/html": [
              "\n",
              "        <iframe\n",
              "            width=\"400\"\n",
              "            height=\"300\"\n",
              "            src=\"https://www.youtube.com/embed/UN05dI20I_0\"\n",
              "            frameborder=\"0\"\n",
              "            allowfullscreen\n",
              "        ></iframe>\n",
              "        "
            ],
            "text/plain": [
              "<IPython.lib.display.YouTubeVideo at 0x7f0c2e74fd90>"
            ],
            "image/jpeg": "[encoded data removed]"
          },
          "metadata": {},
          "execution_count": 15
        }
      ]
    },
    {
      "cell_type": "code",
      "metadata": {
        "id": "QsPmaHAhMalw"
      },
      "source": [
        "%%capture\n",
        "! wget https://repo.anaconda.com/miniconda/Miniconda3-py37_4.8.2-Linux-x86_64.sh \n",
        "! chmod +x Miniconda3-py37 _4.8.2-Linux-x86_64.sh \n",
        "! bash ./Miniconda3-py37_4.8.2-Linux-x86_64.sh -y -b -f -p /content/miniconda "
      ],
      "execution_count": 1,
      "outputs": []
    },
    {
      "cell_type": "code",
      "metadata": {
        "id": "ZKwNvMwt-VQy"
      },
      "source": [
        "!ln -s /content/miniconda/bin/conda ./conda \n",
        "!ln -s /content/miniconda/bin/jupyter ./jupyter "
      ],
      "execution_count": 2,
      "outputs": []
    },
    {
      "cell_type": "code",
      "metadata": {
        "colab": {
          "base_uri": "https://localhost:8080/"
        },
        "id": "M9Fec9M__ExS",
        "outputId": "8ed33607-2bb4-4a4c-fdae-3b1912843adc"
      },
      "source": [
        "!./conda install jupyterlab -c conda-forge\n",
        "!./conda install xeus-cling -c conda-forge "
      ],
      "execution_count": 3,
      "outputs": [
        {
          "output_type": "stream",
          "name": "stdout",
          "text": [
            "Collecting package metadata (current_repodata.json): - \b\b\\ \b\b| \b\b/ \b\b- \b\b\\ \b\b| \b\b/ \b\b- \b\b\\ \b\b| \b\b/ \b\b- \b\b\\ \b\b| \b\b/ \b\b- \b\b\\ \b\b| \b\b/ \b\b- \b\b\\ \b\b| \b\b/ \b\b- \b\b\\ \b\b| \b\b/ \b\b- \b\b\\ \b\b| \b\b/ \b\b- \b\b\\ \b\b| \b\b/ \b\b- \b\b\\ \b\b| \b\b/ \b\b- \b\b\\ \b\b| \b\b/ \b\b- \b\b\\ \b\b| \b\b/ \b\b- \b\b\\ \b\b| \b\b/ \b\b- \b\b\\ \b\b| \b\b/ \b\b- \b\b\\ \b\b| \b\b/ \b\b- \b\b\\ \b\b| \b\b/ \b\b- \b\b\\ \b\b| \b\b/ \b\b- \b\b\\ \b\b| \b\b/ \b\b- \b\b\\ \b\b| \b\b/ \b\b- \b\b\\ \b\b| \b\b/ \b\b- \b\b\\ \b\b| \b\b/ \b\b- \b\b\\ \b\b| \b\b/ \b\b- \b\b\\ \b\b| \b\b/ \b\b- \b\b\\ \b\b| \b\b/ \b\bdone\n",
            "Solving environment: \\ \b\b| \b\b/ \b\b- \b\b\\ \b\b| \b\b/ \b\b- \b\b\\ \b\b| \b\b/ \b\b- \b\b\\ \b\b| \b\b/ \b\b- \b\b\\ \b\b| \b\b/ \b\b- \b\b\\ \b\b| \b\b/ \b\b- \b\b\\ \b\b| \b\b/ \b\b- \b\b\\ \b\bdone\n",
            "\n",
            "\n",
            "==> WARNING: A newer version of conda exists. <==\n",
            "  current version: 4.8.2\n",
            "  latest version: 4.10.3\n",
            "\n",
            "Please update conda by running\n",
            "\n",
            "    $ conda update -n base -c defaults conda\n",
            "\n",
            "\n",
            "\n",
            "## Package Plan ##\n",
            "\n",
            "  environment location: /content/miniconda\n",
            "\n",
            "  added / updated specs:\n",
            "    - jupyterlab\n",
            "\n",
            "\n",
            "The following packages will be downloaded:\n",
            "\n",
            "    package                    |            build\n",
            "    ---------------------------|-----------------\n",
            "    anyio-3.4.0                |   py37h89c1867_0         149 KB  conda-forge\n",
            "    argon2-cffi-20.1.0         |   py37h27cfd23_1          46 KB\n",
            "    async_generator-1.10       |             py_0          18 KB  conda-forge\n",
            "    attrs-21.2.0               |     pyhd8ed1ab_0          44 KB  conda-forge\n",
            "    babel-2.9.1                |     pyh44b312d_0         6.2 MB  conda-forge\n",
            "    backcall-0.2.0             |     pyh9f0ad1d_0          13 KB  conda-forge\n",
            "    backports-1.0              |             py_2           4 KB  conda-forge\n",
            "    backports.functools_lru_cache-1.6.4|     pyhd8ed1ab_0           9 KB  conda-forge\n",
            "    bleach-4.1.0               |     pyhd8ed1ab_0         121 KB  conda-forge\n",
            "    ca-certificates-2021.10.8  |       ha878542_0         139 KB  conda-forge\n",
            "    certifi-2021.10.8          |   py37h89c1867_1         145 KB  conda-forge\n",
            "    conda-4.11.0               |   py37h89c1867_0        16.9 MB  conda-forge\n",
            "    decorator-5.1.0            |     pyhd8ed1ab_0          11 KB  conda-forge\n",
            "    defusedxml-0.7.1           |     pyhd8ed1ab_0          23 KB  conda-forge\n",
            "    entrypoints-0.3            |  pyhd8ed1ab_1003           8 KB  conda-forge\n",
            "    importlib-metadata-4.8.2   |   py37h89c1867_0          32 KB  conda-forge\n",
            "    importlib_resources-5.4.0  |     pyhd8ed1ab_0          21 KB  conda-forge\n",
            "    ipykernel-5.5.5            |   py37h085eea5_0         167 KB  conda-forge\n",
            "    ipython-7.30.0             |   py37h89c1867_0         1.1 MB  conda-forge\n",
            "    ipython_genutils-0.2.0     |             py_1          21 KB  conda-forge\n",
            "    jedi-0.18.1                |   py37h89c1867_0         997 KB  conda-forge\n",
            "    jinja2-2.11.3              |     pyh44b312d_0          93 KB  conda-forge\n",
            "    json5-0.9.5                |     pyh9f0ad1d_0          20 KB  conda-forge\n",
            "    jsonschema-4.2.1           |     pyhd8ed1ab_0         118 KB  conda-forge\n",
            "    jupyter_client-7.1.0       |     pyhd8ed1ab_0          89 KB  conda-forge\n",
            "    jupyter_core-4.9.1         |   py37h89c1867_1          80 KB  conda-forge\n",
            "    jupyter_server-1.12.1      |     pyhd8ed1ab_0         261 KB  conda-forge\n",
            "    jupyterlab-3.2.4           |     pyhd8ed1ab_0         6.1 MB  conda-forge\n",
            "    jupyterlab_pygments-0.1.2  |     pyh9f0ad1d_0           8 KB  conda-forge\n",
            "    jupyterlab_server-2.8.2    |     pyhd8ed1ab_0          45 KB  conda-forge\n",
            "    libsodium-1.0.18           |       h36c2ea0_1         366 KB  conda-forge\n",
            "    markupsafe-1.1.1           |   py37hb5d75c8_2          27 KB  conda-forge\n",
            "    matplotlib-inline-0.1.3    |     pyhd8ed1ab_0          11 KB  conda-forge\n",
            "    mistune-0.8.4              |py37h4abf009_1002          54 KB  conda-forge\n",
            "    nbclassic-0.3.4            |     pyhd8ed1ab_0          22 KB  conda-forge\n",
            "    nbclient-0.5.9             |     pyhd8ed1ab_0          63 KB  conda-forge\n",
            "    nbconvert-6.3.0            |   py37h89c1867_1         535 KB  conda-forge\n",
            "    nbformat-5.1.3             |     pyhd8ed1ab_0          47 KB  conda-forge\n",
            "    nest-asyncio-1.5.1         |     pyhd8ed1ab_0           9 KB  conda-forge\n",
            "    notebook-6.4.6             |     pyha770c72_0         6.2 MB  conda-forge\n",
            "    openssl-1.1.1l             |       h7f8727e_0         2.5 MB\n",
            "    packaging-21.3             |     pyhd8ed1ab_0          36 KB  conda-forge\n",
            "    pandoc-2.16.2              |       h7f98852_0        12.6 MB  conda-forge\n",
            "    pandocfilters-1.5.0        |     pyhd8ed1ab_0          11 KB  conda-forge\n",
            "    parso-0.8.2                |     pyhd8ed1ab_0          68 KB  conda-forge\n",
            "    pexpect-4.8.0              |     pyh9f0ad1d_2          47 KB  conda-forge\n",
            "    pickleshare-0.7.5          |          py_1003           9 KB  conda-forge\n",
            "    prometheus_client-0.12.0   |     pyhd8ed1ab_0          47 KB  conda-forge\n",
            "    prompt-toolkit-3.0.22      |     pyha770c72_0         249 KB  conda-forge\n",
            "    ptyprocess-0.7.0           |     pyhd3deb0d_0          16 KB  conda-forge\n",
            "    pygments-2.10.0            |     pyhd8ed1ab_0         760 KB  conda-forge\n",
            "    pyparsing-3.0.6            |     pyhd8ed1ab_0          79 KB  conda-forge\n",
            "    pyrsistent-0.18.0          |   py37heee7806_0          95 KB\n",
            "    python-dateutil-2.8.2      |     pyhd8ed1ab_0         240 KB  conda-forge\n",
            "    python_abi-3.7             |          2_cp37m           4 KB  conda-forge\n",
            "    pytz-2021.3                |     pyhd8ed1ab_0         242 KB  conda-forge\n",
            "    pyzmq-19.0.2               |   py37hac76be4_2         471 KB  conda-forge\n",
            "    send2trash-1.8.0           |     pyhd8ed1ab_0          17 KB  conda-forge\n",
            "    sniffio-1.2.0              |   py37h89c1867_2          15 KB  conda-forge\n",
            "    terminado-0.12.1           |   py37h89c1867_1          28 KB  conda-forge\n",
            "    testpath-0.5.0             |     pyhd8ed1ab_0          86 KB  conda-forge\n",
            "    tornado-6.1                |   py37h4abf009_0         645 KB  conda-forge\n",
            "    traitlets-5.1.1            |     pyhd8ed1ab_0          82 KB  conda-forge\n",
            "    typing_extensions-4.0.0    |     pyha770c72_0          26 KB  conda-forge\n",
            "    wcwidth-0.2.5              |     pyh9f0ad1d_2          33 KB  conda-forge\n",
            "    webencodings-0.5.1         |             py_1          12 KB  conda-forge\n",
            "    websocket-client-1.2.1     |   py37h89c1867_0          71 KB  conda-forge\n",
            "    zeromq-4.3.4               |       h2531618_0         331 KB\n",
            "    zipp-3.6.0                 |     pyhd8ed1ab_0          12 KB  conda-forge\n",
            "    ------------------------------------------------------------\n",
            "                                           Total:        59.1 MB\n",
            "\n",
            "The following NEW packages will be INSTALLED:\n",
            "\n",
            "  anyio              conda-forge/linux-64::anyio-3.4.0-py37h89c1867_0\n",
            "  argon2-cffi        pkgs/main/linux-64::argon2-cffi-20.1.0-py37h27cfd23_1\n",
            "  async_generator    conda-forge/noarch::async_generator-1.10-py_0\n",
            "  attrs              conda-forge/noarch::attrs-21.2.0-pyhd8ed1ab_0\n",
            "  babel              conda-forge/noarch::babel-2.9.1-pyh44b312d_0\n",
            "  backcall           conda-forge/noarch::backcall-0.2.0-pyh9f0ad1d_0\n",
            "  backports          conda-forge/noarch::backports-1.0-py_2\n",
            "  backports.functoo~ conda-forge/noarch::backports.functools_lru_cache-1.6.4-pyhd8ed1ab_0\n",
            "  bleach             conda-forge/noarch::bleach-4.1.0-pyhd8ed1ab_0\n",
            "  decorator          conda-forge/noarch::decorator-5.1.0-pyhd8ed1ab_0\n",
            "  defusedxml         conda-forge/noarch::defusedxml-0.7.1-pyhd8ed1ab_0\n",
            "  entrypoints        conda-forge/noarch::entrypoints-0.3-pyhd8ed1ab_1003\n",
            "  importlib-metadata conda-forge/linux-64::importlib-metadata-4.8.2-py37h89c1867_0\n",
            "  importlib_resourc~ conda-forge/noarch::importlib_resources-5.4.0-pyhd8ed1ab_0\n",
            "  ipykernel          conda-forge/linux-64::ipykernel-5.5.5-py37h085eea5_0\n",
            "  ipython            conda-forge/linux-64::ipython-7.30.0-py37h89c1867_0\n",
            "  ipython_genutils   conda-forge/noarch::ipython_genutils-0.2.0-py_1\n",
            "  jedi               conda-forge/linux-64::jedi-0.18.1-py37h89c1867_0\n",
            "  jinja2             conda-forge/noarch::jinja2-2.11.3-pyh44b312d_0\n",
            "  json5              conda-forge/noarch::json5-0.9.5-pyh9f0ad1d_0\n",
            "  jsonschema         conda-forge/noarch::jsonschema-4.2.1-pyhd8ed1ab_0\n",
            "  jupyter_client     conda-forge/noarch::jupyter_client-7.1.0-pyhd8ed1ab_0\n",
            "  jupyter_core       conda-forge/linux-64::jupyter_core-4.9.1-py37h89c1867_1\n",
            "  jupyter_server     conda-forge/noarch::jupyter_server-1.12.1-pyhd8ed1ab_0\n",
            "  jupyterlab         conda-forge/noarch::jupyterlab-3.2.4-pyhd8ed1ab_0\n",
            "  jupyterlab_pygmen~ conda-forge/noarch::jupyterlab_pygments-0.1.2-pyh9f0ad1d_0\n",
            "  jupyterlab_server  conda-forge/noarch::jupyterlab_server-2.8.2-pyhd8ed1ab_0\n",
            "  libsodium          conda-forge/linux-64::libsodium-1.0.18-h36c2ea0_1\n",
            "  markupsafe         conda-forge/linux-64::markupsafe-1.1.1-py37hb5d75c8_2\n",
            "  matplotlib-inline  conda-forge/noarch::matplotlib-inline-0.1.3-pyhd8ed1ab_0\n",
            "  mistune            conda-forge/linux-64::mistune-0.8.4-py37h4abf009_1002\n",
            "  nbclassic          conda-forge/noarch::nbclassic-0.3.4-pyhd8ed1ab_0\n",
            "  nbclient           conda-forge/noarch::nbclient-0.5.9-pyhd8ed1ab_0\n",
            "  nbconvert          conda-forge/linux-64::nbconvert-6.3.0-py37h89c1867_1\n",
            "  nbformat           conda-forge/noarch::nbformat-5.1.3-pyhd8ed1ab_0\n",
            "  nest-asyncio       conda-forge/noarch::nest-asyncio-1.5.1-pyhd8ed1ab_0\n",
            "  notebook           conda-forge/noarch::notebook-6.4.6-pyha770c72_0\n",
            "  packaging          conda-forge/noarch::packaging-21.3-pyhd8ed1ab_0\n",
            "  pandoc             conda-forge/linux-64::pandoc-2.16.2-h7f98852_0\n",
            "  pandocfilters      conda-forge/noarch::pandocfilters-1.5.0-pyhd8ed1ab_0\n",
            "  parso              conda-forge/noarch::parso-0.8.2-pyhd8ed1ab_0\n",
            "  pexpect            conda-forge/noarch::pexpect-4.8.0-pyh9f0ad1d_2\n",
            "  pickleshare        conda-forge/noarch::pickleshare-0.7.5-py_1003\n",
            "  prometheus_client  conda-forge/noarch::prometheus_client-0.12.0-pyhd8ed1ab_0\n",
            "  prompt-toolkit     conda-forge/noarch::prompt-toolkit-3.0.22-pyha770c72_0\n",
            "  ptyprocess         conda-forge/noarch::ptyprocess-0.7.0-pyhd3deb0d_0\n",
            "  pygments           conda-forge/noarch::pygments-2.10.0-pyhd8ed1ab_0\n",
            "  pyparsing          conda-forge/noarch::pyparsing-3.0.6-pyhd8ed1ab_0\n",
            "  pyrsistent         pkgs/main/linux-64::pyrsistent-0.18.0-py37heee7806_0\n",
            "  python-dateutil    conda-forge/noarch::python-dateutil-2.8.2-pyhd8ed1ab_0\n",
            "  python_abi         conda-forge/linux-64::python_abi-3.7-2_cp37m\n",
            "  pytz               conda-forge/noarch::pytz-2021.3-pyhd8ed1ab_0\n",
            "  pyzmq              conda-forge/linux-64::pyzmq-19.0.2-py37hac76be4_2\n",
            "  send2trash         conda-forge/noarch::send2trash-1.8.0-pyhd8ed1ab_0\n",
            "  sniffio            conda-forge/linux-64::sniffio-1.2.0-py37h89c1867_2\n",
            "  terminado          conda-forge/linux-64::terminado-0.12.1-py37h89c1867_1\n",
            "  testpath           conda-forge/noarch::testpath-0.5.0-pyhd8ed1ab_0\n",
            "  tornado            conda-forge/linux-64::tornado-6.1-py37h4abf009_0\n",
            "  traitlets          conda-forge/noarch::traitlets-5.1.1-pyhd8ed1ab_0\n",
            "  typing_extensions  conda-forge/noarch::typing_extensions-4.0.0-pyha770c72_0\n",
            "  wcwidth            conda-forge/noarch::wcwidth-0.2.5-pyh9f0ad1d_2\n",
            "  webencodings       conda-forge/noarch::webencodings-0.5.1-py_1\n",
            "  websocket-client   conda-forge/linux-64::websocket-client-1.2.1-py37h89c1867_0\n",
            "  zeromq             pkgs/main/linux-64::zeromq-4.3.4-h2531618_0\n",
            "  zipp               conda-forge/noarch::zipp-3.6.0-pyhd8ed1ab_0\n",
            "\n",
            "The following packages will be UPDATED:\n",
            "\n",
            "  ca-certificates     pkgs/main::ca-certificates-2020.1.1-0 --> conda-forge::ca-certificates-2021.10.8-ha878542_0\n",
            "  certifi              pkgs/main::certifi-2019.11.28-py37_0 --> conda-forge::certifi-2021.10.8-py37h89c1867_1\n",
            "  conda                       pkgs/main::conda-4.8.2-py37_0 --> conda-forge::conda-4.11.0-py37h89c1867_0\n",
            "  openssl                                 1.1.1d-h7b6447c_4 --> 1.1.1l-h7f8727e_0\n",
            "\n",
            "\n",
            "Proceed ([y]/n)? y\n",
            "\n",
            "\n",
            "Downloading and Extracting Packages\n",
            "markupsafe-1.1.1     | 27 KB     | : 100% 1.0/1 [00:00<00:00, 10.55it/s]\n",
            "nbconvert-6.3.0      | 535 KB    | : 100% 1.0/1 [00:00<00:00,  5.11it/s]\n",
            "importlib-metadata-4 | 32 KB     | : 100% 1.0/1 [00:00<00:00, 22.11it/s]\n",
            "jupyter_server-1.12. | 261 KB    | : 100% 1.0/1 [00:00<00:00,  7.59it/s]\n",
            "ca-certificates-2021 | 139 KB    | : 100% 1.0/1 [00:00<00:00, 19.19it/s]\n",
            "pandocfilters-1.5.0  | 11 KB     | : 100% 1.0/1 [00:00<00:00, 30.60it/s]\n",
            "nbclassic-0.3.4      | 22 KB     | : 100% 1.0/1 [00:00<00:00, 22.90it/s]\n",
            "packaging-21.3       | 36 KB     | : 100% 1.0/1 [00:00<00:00, 25.75it/s]\n",
            "nbclient-0.5.9       | 63 KB     | : 100% 1.0/1 [00:00<00:00, 16.41it/s]\n",
            "babel-2.9.1          | 6.2 MB    | : 100% 1.0/1 [00:01<00:00,  1.52s/it]               \n",
            "ipython-7.30.0       | 1.1 MB    | : 100% 1.0/1 [00:00<00:00,  2.80it/s]\n",
            "jupyter_client-7.1.0 | 89 KB     | : 100% 1.0/1 [00:00<00:00, 17.69it/s]\n",
            "prometheus_client-0. | 47 KB     | : 100% 1.0/1 [00:00<00:00, 23.24it/s]\n",
            "python-dateutil-2.8. | 240 KB    | : 100% 1.0/1 [00:00<00:00, 15.03it/s]\n",
            "ipython_genutils-0.2 | 21 KB     | : 100% 1.0/1 [00:00<00:00, 17.66it/s]\n",
            "libsodium-1.0.18     | 366 KB    | : 100% 1.0/1 [00:00<00:00,  8.77it/s]\n",
            "zeromq-4.3.4         | 331 KB    | : 100% 1.0/1 [00:00<00:00,  8.66it/s]\n",
            "backcall-0.2.0       | 13 KB     | : 100% 1.0/1 [00:00<00:00, 28.05it/s]\n",
            "nbformat-5.1.3       | 47 KB     | : 100% 1.0/1 [00:00<00:00, 19.17it/s]\n",
            "jsonschema-4.2.1     | 118 KB    | : 100% 1.0/1 [00:07<00:00, 40.07s/it]                \n",
            "jupyterlab-3.2.4     | 6.1 MB    | : 100% 1.0/1 [00:01<00:00,  1.60s/it]\n",
            "parso-0.8.2          | 68 KB     | : 100% 1.0/1 [00:00<00:00, 19.38it/s]\n",
            "argon2-cffi-20.1.0   | 46 KB     | : 100% 1.0/1 [00:00<00:00, 14.21it/s]\n",
            "pickleshare-0.7.5    | 9 KB      | : 100% 1.0/1 [00:00<00:00, 26.50it/s]\n",
            "jupyterlab_server-2. | 45 KB     | : 100% 1.0/1 [00:00<00:00, 21.63it/s]\n",
            "async_generator-1.10 | 18 KB     | : 100% 1.0/1 [00:00<00:00, 27.16it/s]\n",
            "bleach-4.1.0         | 121 KB    | : 100% 1.0/1 [00:00<00:00, 15.60it/s]\n",
            "webencodings-0.5.1   | 12 KB     | : 100% 1.0/1 [00:00<00:00, 28.77it/s]\n",
            "attrs-21.2.0         | 44 KB     | : 100% 1.0/1 [00:00<00:00, 22.82it/s]\n",
            "pyparsing-3.0.6      | 79 KB     | : 100% 1.0/1 [00:00<00:00, 15.76it/s]\n",
            "python_abi-3.7       | 4 KB      | : 100% 1.0/1 [00:00<00:00, 35.05it/s]\n",
            "backports-1.0        | 4 KB      | : 100% 1.0/1 [00:00<00:00, 30.65it/s]\n",
            "pandoc-2.16.2        | 12.6 MB   | : 100% 1.0/1 [00:03<00:00,  2.02s/it]                \n",
            "zipp-3.6.0           | 12 KB     | : 100% 1.0/1 [00:00<00:00, 32.77it/s]\n",
            "jupyter_core-4.9.1   | 80 KB     | : 100% 1.0/1 [00:00<00:00, 16.87it/s]\n",
            "backports.functools_ | 9 KB      | : 100% 1.0/1 [00:00<00:00, 26.91it/s]\n",
            "typing_extensions-4. | 26 KB     | : 100% 1.0/1 [00:00<00:00, 26.20it/s]\n",
            "defusedxml-0.7.1     | 23 KB     | : 100% 1.0/1 [00:00<00:00, 30.42it/s]\n",
            "ipykernel-5.5.5      | 167 KB    | : 100% 1.0/1 [00:00<00:00, 12.23it/s]\n",
            "jupyterlab_pygments- | 8 KB      | : 100% 1.0/1 [00:00<00:00, 26.57it/s]\n",
            "pygments-2.10.0      | 760 KB    | : 100% 1.0/1 [00:00<00:00,  3.97it/s]\n",
            "pytz-2021.3          | 242 KB    | : 100% 1.0/1 [00:00<00:00,  7.44it/s]\n",
            "sniffio-1.2.0        | 15 KB     | : 100% 1.0/1 [00:00<00:00, 28.61it/s]\n",
            "mistune-0.8.4        | 54 KB     | : 100% 1.0/1 [00:00<00:00,  1.82it/s]               \n",
            "nest-asyncio-1.5.1   | 9 KB      | : 100% 1.0/1 [00:00<00:00, 25.77it/s]\n",
            "certifi-2021.10.8    | 145 KB    | : 100% 1.0/1 [00:00<00:00, 19.65it/s]\n",
            "json5-0.9.5          | 20 KB     | : 100% 1.0/1 [00:00<00:00, 26.39it/s]\n",
            "matplotlib-inline-0. | 11 KB     | : 100% 1.0/1 [00:00<00:00, 27.45it/s]\n",
            "pyzmq-19.0.2         | 471 KB    | : 100% 1.0/1 [00:00<00:00,  5.76it/s]\n",
            "tornado-6.1          | 645 KB    | : 100% 1.0/1 [00:00<00:00,  4.59it/s]\n",
            "notebook-6.4.6       | 6.2 MB    | : 100% 1.0/1 [00:01<00:00,  1.69s/it]\n",
            "pyrsistent-0.18.0    | 95 KB     | : 100% 1.0/1 [00:00<00:00,  1.91it/s]\n",
            "traitlets-5.1.1      | 82 KB     | : 100% 1.0/1 [00:00<00:00, 17.39it/s]\n",
            "jedi-0.18.1          | 997 KB    | : 100% 1.0/1 [00:00<00:00,  1.78it/s]\n",
            "terminado-0.12.1     | 28 KB     | : 100% 1.0/1 [00:00<00:00, 22.24it/s]\n",
            "ptyprocess-0.7.0     | 16 KB     | : 100% 1.0/1 [00:00<00:00, 25.30it/s]\n",
            "pexpect-4.8.0        | 47 KB     | : 100% 1.0/1 [00:00<00:00, 26.13it/s]\n",
            "wcwidth-0.2.5        | 33 KB     | : 100% 1.0/1 [00:00<00:00, 19.57it/s]\n",
            "prompt-toolkit-3.0.2 | 249 KB    | : 100% 1.0/1 [00:00<00:00,  8.57it/s]\n",
            "entrypoints-0.3      | 8 KB      | : 100% 1.0/1 [00:00<00:00, 29.10it/s]\n",
            "testpath-0.5.0       | 86 KB     | : 100% 1.0/1 [00:00<00:00, 20.55it/s]\n",
            "anyio-3.4.0          | 149 KB    | : 100% 1.0/1 [00:00<00:00, 12.77it/s]\n",
            "conda-4.11.0         | 16.9 MB   | : 100% 1.0/1 [00:04<00:00,  4.39s/it]               \n",
            "openssl-1.1.1l       | 2.5 MB    | : 100% 1.0/1 [00:00<00:00,  6.18it/s]\n",
            "send2trash-1.8.0     | 17 KB     | : 100% 1.0/1 [00:00<00:00, 20.92it/s]\n",
            "importlib_resources- | 21 KB     | : 100% 1.0/1 [00:00<00:00, 23.65it/s]\n",
            "websocket-client-1.2 | 71 KB     | : 100% 1.0/1 [00:00<00:00, 19.44it/s]\n",
            "decorator-5.1.0      | 11 KB     | : 100% 1.0/1 [00:00<00:00, 28.76it/s]\n",
            "jinja2-2.11.3        | 93 KB     | : 100% 1.0/1 [00:00<00:00, 15.02it/s]\n",
            "Preparing transaction: / \b\b- \b\b\\ \b\b| \b\b/ \b\bdone\n",
            "Verifying transaction: \\ \b\b| \b\b/ \b\b- \b\b\\ \b\b| \b\b/ \b\b- \b\b\\ \b\b| \b\b/ \b\bdone\n",
            "Executing transaction: \\ \b\b| \b\b/ \b\b- \b\b\\ \b\b| \b\b/ \b\b- \b\b\\ \b\b| \b\b/ \b\b- \b\b\\ \b\b| \b\b/ \b\b- \b\b\\ \b\b| \b\b/ \b\b- \b\b\\ \b\b| \b\b/ \b\b- \b\b\\ \b\b| \b\b/ \b\b- \b\b\\ \b\b| \b\b/ \b\b- \b\b\\ \b\b| \b\b/ \b\b- \b\bdone\n",
            "Collecting package metadata (current_repodata.json): - \b\b\\ \b\b| \b\b/ \b\b- \b\b\\ \b\b| \b\b/ \b\b- \b\b\\ \b\b| \b\b/ \b\b- \b\b\\ \b\b| \b\b/ \b\b- \b\b\\ \b\b| \b\b/ \b\b- \b\b\\ \b\b| \b\bdone\n",
            "Solving environment: - \b\b\\ \b\b| \b\b/ \b\b- \b\b\\ \b\b| \b\b/ \b\b- \b\b\\ \b\b| \b\b/ \b\b- \b\b\\ \b\b| \b\b/ \b\b- \b\b\\ \b\b| \b\b/ \b\b- \b\b\\ \b\b| \b\b/ \b\b- \b\b\\ \b\b| \b\b/ \b\b- \b\b\\ \b\b| \b\b/ \b\b- \b\b\\ \b\b| \b\b/ \b\b- \b\b\\ \b\b| \b\b/ \b\b- \b\b\\ \b\b| \b\b/ \b\b- \b\b\\ \b\b| \b\b/ \b\b- \b\b\\ \b\b| \b\b/ \b\b- \b\b\\ \b\b| \b\b/ \b\b- \b\b\\ \b\b| \b\b/ \b\b- \b\b\\ \b\b| \b\b/ \b\b- \b\b\\ \b\bdone\n",
            "\n",
            "## Package Plan ##\n",
            "\n",
            "  environment location: /content/miniconda\n",
            "\n",
            "  added / updated specs:\n",
            "    - xeus-cling\n",
            "\n",
            "\n",
            "The following packages will be downloaded:\n",
            "\n",
            "    package                    |            build\n",
            "    ---------------------------|-----------------\n",
            "    _libgcc_mutex-0.1          |      conda_forge           3 KB  conda-forge\n",
            "    _openmp_mutex-4.5          |            1_gnu          22 KB  conda-forge\n",
            "    binutils_impl_linux-64-2.35.1|       h27ae35d_9         3.6 MB\n",
            "    binutils_linux-64-2.35.1   |      h454624a_30          24 KB\n",
            "    clang_variant-1.0          |       cling_v0.8          12 KB  conda-forge\n",
            "    clangdev-5.0.0             |    h43905f9_1012       114.3 MB  conda-forge\n",
            "    cling-0.8                  |       hf817b99_1        55.7 MB  conda-forge\n",
            "    cppzmq-4.8.1               |       hf7cf922_0          26 KB  conda-forge\n",
            "    cxxopts-2.1.2              |    h4bd325d_1001          15 KB  conda-forge\n",
            "    gcc_impl_linux-64-9.3.0    |      h6df7d76_17        44.6 MB\n",
            "    gcc_linux-64-9.3.0         |      h1ee779e_30          25 KB\n",
            "    gxx_impl_linux-64-9.3.0    |      hbdd7822_17         9.0 MB\n",
            "    gxx_linux-64-9.3.0         |      h7e70986_30          24 KB\n",
            "    kernel-headers_linux-64-2.6.32|      he073ed8_15         707 KB  conda-forge\n",
            "    ld_impl_linux-64-2.35.1    |       h7274673_9         586 KB\n",
            "    libgcc-devel_linux-64-9.3.0|      hb95220a_17         2.8 MB\n",
            "    libgcc-ng-11.2.0           |      h1d223b6_11         887 KB  conda-forge\n",
            "    libgomp-11.2.0             |      h1d223b6_11         427 KB  conda-forge\n",
            "    libstdcxx-devel_linux-64-9.3.0|      hf0c5c8d_17        10.6 MB\n",
            "    libstdcxx-ng-11.2.0        |      he4da1e4_11         4.2 MB  conda-forge\n",
            "    libuuid-2.32.1             |    h7f98852_1000          28 KB  conda-forge\n",
            "    nlohmann_json-3.9.1        |       h9c3ff4c_1         122 KB  conda-forge\n",
            "    openssl-1.1.1l             |       h7f98852_0         2.1 MB  conda-forge\n",
            "    pugixml-1.11.4             |       h9c3ff4c_0         125 KB  conda-forge\n",
            "    sysroot_linux-64-2.12      |      he073ed8_15        31.4 MB  conda-forge\n",
            "    xeus-2.1.1                 |       h7d0c39e_0         978 KB  conda-forge\n",
            "    xeus-cling-0.13.0          |       h560cc44_1        26.9 MB  conda-forge\n",
            "    xtl-0.7.4                  |       h4bd325d_0          96 KB  conda-forge\n",
            "    ------------------------------------------------------------\n",
            "                                           Total:       309.2 MB\n",
            "\n",
            "The following NEW packages will be INSTALLED:\n",
            "\n",
            "  _openmp_mutex      conda-forge/linux-64::_openmp_mutex-4.5-1_gnu\n",
            "  binutils_impl_lin~ pkgs/main/linux-64::binutils_impl_linux-64-2.35.1-h27ae35d_9\n",
            "  binutils_linux-64  pkgs/main/linux-64::binutils_linux-64-2.35.1-h454624a_30\n",
            "  clang_variant      conda-forge/linux-64::clang_variant-1.0-cling_v0.8\n",
            "  clangdev           conda-forge/linux-64::clangdev-5.0.0-h43905f9_1012\n",
            "  cling              conda-forge/linux-64::cling-0.8-hf817b99_1\n",
            "  cppzmq             conda-forge/linux-64::cppzmq-4.8.1-hf7cf922_0\n",
            "  cxxopts            conda-forge/linux-64::cxxopts-2.1.2-h4bd325d_1001\n",
            "  gcc_impl_linux-64  pkgs/main/linux-64::gcc_impl_linux-64-9.3.0-h6df7d76_17\n",
            "  gcc_linux-64       pkgs/main/linux-64::gcc_linux-64-9.3.0-h1ee779e_30\n",
            "  gxx_impl_linux-64  pkgs/main/linux-64::gxx_impl_linux-64-9.3.0-hbdd7822_17\n",
            "  gxx_linux-64       pkgs/main/linux-64::gxx_linux-64-9.3.0-h7e70986_30\n",
            "  kernel-headers_li~ conda-forge/noarch::kernel-headers_linux-64-2.6.32-he073ed8_15\n",
            "  libgcc-devel_linu~ pkgs/main/linux-64::libgcc-devel_linux-64-9.3.0-hb95220a_17\n",
            "  libgomp            conda-forge/linux-64::libgomp-11.2.0-h1d223b6_11\n",
            "  libstdcxx-devel_l~ pkgs/main/linux-64::libstdcxx-devel_linux-64-9.3.0-hf0c5c8d_17\n",
            "  libuuid            conda-forge/linux-64::libuuid-2.32.1-h7f98852_1000\n",
            "  nlohmann_json      conda-forge/linux-64::nlohmann_json-3.9.1-h9c3ff4c_1\n",
            "  pugixml            conda-forge/linux-64::pugixml-1.11.4-h9c3ff4c_0\n",
            "  sysroot_linux-64   conda-forge/noarch::sysroot_linux-64-2.12-he073ed8_15\n",
            "  xeus               conda-forge/linux-64::xeus-2.1.1-h7d0c39e_0\n",
            "  xeus-cling         conda-forge/linux-64::xeus-cling-0.13.0-h560cc44_1\n",
            "  xtl                conda-forge/linux-64::xtl-0.7.4-h4bd325d_0\n",
            "\n",
            "The following packages will be UPDATED:\n",
            "\n",
            "  ld_impl_linux-64                        2.33.1-h53a641e_7 --> 2.35.1-h7274673_9\n",
            "  libgcc-ng           pkgs/main::libgcc-ng-9.1.0-hdf63c60_0 --> conda-forge::libgcc-ng-11.2.0-h1d223b6_11\n",
            "  libstdcxx-ng       pkgs/main::libstdcxx-ng-9.1.0-hdf63c6~ --> conda-forge::libstdcxx-ng-11.2.0-he4da1e4_11\n",
            "\n",
            "The following packages will be SUPERSEDED by a higher-priority channel:\n",
            "\n",
            "  _libgcc_mutex           pkgs/main::_libgcc_mutex-0.1-main --> conda-forge::_libgcc_mutex-0.1-conda_forge\n",
            "  openssl              pkgs/main::openssl-1.1.1l-h7f8727e_0 --> conda-forge::openssl-1.1.1l-h7f98852_0\n",
            "\n",
            "\n",
            "Proceed ([y]/n)? y\n",
            "\n",
            "\n",
            "Downloading and Extracting Packages\n",
            "_libgcc_mutex-0.1    | 3 KB      | : 100% 1.0/1 [00:00<00:00, 14.11it/s]\n",
            "gcc_impl_linux-64-9. | 44.6 MB   | : 100% 1.0/1 [00:08<00:00,  8.33s/it]               \n",
            "libstdcxx-devel_linu | 10.6 MB   | : 100% 1.0/1 [00:00<00:00,  1.94it/s]              \n",
            "libuuid-2.32.1       | 28 KB     | : 100% 1.0/1 [00:00<00:00, 21.90it/s]\n",
            "cling-0.8            | 55.7 MB   | : 100% 1.0/1 [00:11<00:00, 11.38s/it]\n",
            "nlohmann_json-3.9.1  | 122 KB    | : 100% 1.0/1 [00:00<00:00,  3.00it/s]                \n",
            "kernel-headers_linux | 707 KB    | : 100% 1.0/1 [00:00<00:00,  3.96it/s]\n",
            "binutils_linux-64-2. | 24 KB     | : 100% 1.0/1 [00:00<00:00, 15.98it/s]\n",
            "xeus-2.1.1           | 978 KB    | : 100% 1.0/1 [00:00<00:00,  3.93it/s]\n",
            "xeus-cling-0.13.0    | 26.9 MB   | : 100% 1.0/1 [00:05<00:00,  5.51s/it]               \n",
            "ld_impl_linux-64-2.3 | 586 KB    | : 100% 1.0/1 [00:00<00:00, 13.53it/s]\n",
            "gxx_impl_linux-64-9. | 9.0 MB    | : 100% 1.0/1 [00:00<00:00,  2.57it/s]               \n",
            "openssl-1.1.1l       | 2.1 MB    | : 100% 1.0/1 [00:00<00:00,  2.37it/s]\n",
            "cxxopts-2.1.2        | 15 KB     | : 100% 1.0/1 [00:00<00:00, 27.00it/s]\n",
            "clangdev-5.0.0       | 114.3 MB  | : 100% 1.0/1 [00:23<00:00, 23.70s/it]               \n",
            "libgcc-ng-11.2.0     | 887 KB    | : 100% 1.0/1 [00:00<00:00,  5.35it/s]\n",
            "pugixml-1.11.4       | 125 KB    | : 100% 1.0/1 [00:00<00:00, 19.75it/s]\n",
            "libgcc-devel_linux-6 | 2.8 MB    | : 100% 1.0/1 [00:00<00:00,  8.31it/s]\n",
            "clang_variant-1.0    | 12 KB     | : 100% 1.0/1 [00:00<00:00, 27.71it/s]\n",
            "gxx_linux-64-9.3.0   | 24 KB     | : 100% 1.0/1 [00:00<00:00, 18.96it/s]\n",
            "_openmp_mutex-4.5    | 22 KB     | : 100% 1.0/1 [00:00<00:00, 28.18it/s]\n",
            "cppzmq-4.8.1         | 26 KB     | : 100% 1.0/1 [00:00<00:00, 26.97it/s]\n",
            "sysroot_linux-64-2.1 | 31.4 MB   | : 100% 1.0/1 [00:05<00:00,  5.94s/it]               \n",
            "xtl-0.7.4            | 96 KB     | : 100% 1.0/1 [00:00<00:00, 17.25it/s]\n",
            "binutils_impl_linux- | 3.6 MB    | : 100% 1.0/1 [00:00<00:00,  4.06it/s]\n",
            "libstdcxx-ng-11.2.0  | 4.2 MB    | : 100% 1.0/1 [00:00<00:00,  1.19it/s]               \n",
            "libgomp-11.2.0       | 427 KB    | : 100% 1.0/1 [00:00<00:00,  9.65it/s]\n",
            "gcc_linux-64-9.3.0   | 25 KB     | : 100% 1.0/1 [00:00<00:00, 13.46it/s]\n",
            "Preparing transaction: / \b\b- \b\b\\ \b\b| \b\bdone\n",
            "Verifying transaction: - \b\b\\ \b\b| \b\b/ \b\b- \b\b\\ \b\b| \b\b/ \b\b- \b\b\\ \b\b| \b\b/ \b\b- \b\b\\ \b\b| \b\b/ \b\b- \b\b\\ \b\b| \b\b/ \b\b- \b\b\\ \b\b| \b\b/ \b\b- \b\b\\ \b\b| \b\b/ \b\b- \b\b\\ \b\b| \b\b/ \b\b- \b\b\\ \b\b| \b\b/ \b\b- \b\b\\ \b\b| \b\b/ \b\b- \b\b\\ \b\b| \b\b/ \b\b- \b\b\\ \b\b| \b\b/ \b\b- \b\b\\ \b\b| \b\b/ \b\b- \b\b\\ \b\b| \b\b/ \b\b- \b\b\\ \b\b| \b\b/ \b\b- \b\b\\ \b\b| \b\b/ \b\b- \b\b\\ \b\b| \b\bdone\n",
            "Executing transaction: - \b\b\\ \b\b| \b\b/ \b\b- \b\b\\ \b\bdone\n"
          ]
        }
      ]
    },
    {
      "cell_type": "code",
      "metadata": {
        "id": "EyB5TcRm-j35"
      },
      "source": [
        "get_ipython().system_raw('./jupyter lab --ip=0.0.0.0 --port=13000 &') "
      ],
      "execution_count": 14,
      "outputs": []
    },
    {
      "cell_type": "code",
      "metadata": {
        "id": "QDOO40AeDq0O",
        "outputId": "ab176b4e-b5f2-4594-9dad-72c781e7ac10",
        "colab": {
          "base_uri": "https://localhost:8080/"
        }
      },
      "source": [
        "!./jupyter server list"
      ],
      "execution_count": 13,
      "outputs": [
        {
          "output_type": "stream",
          "name": "stdout",
          "text": [
            "Currently running servers:\n"
          ]
        }
      ]
    },
    {
      "cell_type": "code",
      "metadata": {
        "id": "jNyt5IIRDZaT",
        "outputId": "c7bee88c-4115-4a39-8a69-230706efb6aa",
        "colab": {
          "base_uri": "https://localhost:8080/"
        }
      },
      "source": [
        "!pip install pyngrok --quiet\n",
        "\n",
        "from pyngrok import ngrok\n",
        "\n",
        "# Terminate open tunnels if exist\n",
        "\n",
        "ngrok.kill()\n",
        "\n",
        "# Setting the authtoken (optional)\n",
        "\n",
        "# Get your authtoken from https://dashboard.ngrok.com/auth \n",
        "NGROK_AUTH_TOKEN = \"\" \n",
        "ngrok.set_auth_token(NGROK_AUTH_TOKEN) "
      ],
      "execution_count": 11,
      "outputs": [
        {
          "output_type": "stream",
          "name": "stdout",
          "text": [
            ""
          ]
        }
      ]
    },
    {
      "cell_type": "code",
      "metadata": {
        "id": "NHdGTfs7EeXl",
        "outputId": "53ea800c-2b28-4f5b-9ce7-719e522077ae",
        "colab": {
          "base_uri": "https://localhost:8080/"
        }
      },
      "source": [
        "ngrok.connect(13000)"
      ],
      "execution_count": 12,
      "outputs": [
        {
          "output_type": "execute_result",
          "data": {
            "text/plain": [
              "<NgrokTunnel: \"http://9b9f-34-80-140-116.ngrok.io\" -> \"http://localhost:13000\">"
            ]
          },
          "metadata": {},
          "execution_count": 12
        }
      ]
    }
  ]
}
