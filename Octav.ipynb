{
 "cells": [
  {
   "cell_type": "markdown",
   "id": "41d2c03c",
   "metadata": {
    "colab_type": "text",
    "id": "view-in-github"
   },
   "source": [
    "## Copyrighted By Seyed Mohammad Hossein Sefidgar 🚀\n",
    "### Click below button to be directed to Colaboratory. Enjoy!"
   ]
  },
  {
   "cell_type": "markdown",
   "id": "2819d280-7b41-4d1c-a659-cd59e5d2e1f8",
   "metadata": {
    "id": "9f11a797-0a73-422a-85f9-819b837d6271"
   },
   "source": [
    "<a href=\"https://colab.research.google.com/github/smhsefidgar/Quickstart/blob/main/Octav.ipynb\" target=\"_parent\"><img src=\"https://colab.research.google.com/assets/colab-badge.svg\" alt=\"Open In Colab\"/></a>"
   ]
  },
  {
   "cell_type": "code",
   "execution_count": null,
   "id": "cdfa3bcf-2e99-4086-a88f-258797981bcd",
   "metadata": {},
   "outputs": [],
   "source": []
  }
 ],
 "metadata": {
  "colab": {
   "include_colab_link": true,
   "name": "Octav.ipynb",
   "provenance": []
  },
  "kernelspec": {
   "display_name": "Octave",
   "language": "octave",
   "name": "octave"
  },
  "language_info": {
   "name": ""
  },
  "widgets": {
   "application/vnd.jupyter.widget-state+json": {
    "state": {},
    "version_major": 2,
    "version_minor": 0
   }
  }
 },
 "nbformat": 4,
 "nbformat_minor": 5
}
