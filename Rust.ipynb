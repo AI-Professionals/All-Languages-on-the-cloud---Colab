{
  "nbformat": 4,
  "nbformat_minor": 0,
  "metadata": {
    "colab": {
      "name": "RustinColab.ipynb",
      "provenance": []
    },
    "kernelspec": {
      "name": "python3",
      "display_name": "Python 3"
    },
    "language_info": {
      "name": "python"
    }
  },
  "cells": [
    {
      "cell_type": "markdown",
      "metadata": {
        "id": "S9N98cdodFXW"
      },
      "source": [
        "## Copyrighted By Seyed Mohammad Hossein Sefidgar 🚀\n",
        "### Click below button to be directed to Colaboratory. Enjoy!"
      ]
    },
    {
      "cell_type": "markdown",
      "metadata": {
        "id": "l9aLRMv9dPEt"
      },
      "source": [
        "<a href=\"https://colab.research.google.com/github/AI-Professionals/All-Languages-on-the-cloud---Colab/blob/main/Rust.ipynb\" target=\"_parent\"><img src=\"https://colab.research.google.com/assets/colab-badge.svg\" alt=\"Open In Colab\"/></a>"
      ]
    },
    {
      "cell_type": "code",
      "metadata": {
        "id": "8Ymywn00cwco"
      },
      "source": [
        "%%capture\n",
        "!apt install rustc\n",
        "!gdown --id 1PULtTc-2e9z4bswh_SQqL5oy_4JpfV7c\n",
        "!chmod +x evcxr_jupyter\n",
        "!./evcxr_jupyter --install"
      ],
      "execution_count": 3,
      "outputs": []
    },
    {
      "cell_type": "code",
      "metadata": {
        "colab": {
          "base_uri": "https://localhost:8080/"
        },
        "id": "xN2Y2qajcxOS",
        "outputId": "facd5d8a-671b-4681-95ed-3bb015de51a9"
      },
      "source": [
        "!jupyter kernelspec list"
      ],
      "execution_count": 2,
      "outputs": [
        {
          "output_type": "stream",
          "name": "stdout",
          "text": [
            "Available kernels:\n",
            "  rust       /root/.local/share/jupyter/kernels/rust\n",
            "  ir         /usr/local/share/jupyter/kernels/ir\n",
            "  python2    /usr/local/share/jupyter/kernels/python2\n",
            "  python3    /usr/local/share/jupyter/kernels/python3\n"
          ]
        }
      ]
    },
    {
      "cell_type": "code",
      "metadata": {
        "id": "XNA-gNk7c3ss"
      },
      "source": [
        ""
      ],
      "execution_count": null,
      "outputs": []
    }
  ]
}
