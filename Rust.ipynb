{
  "nbformat": 4,
  "nbformat_minor": 0,
  "metadata": {
    "colab": {
      "name": "RustinColab.ipynb",
      "provenance": []
    },
    "kernelspec": {
      "name": "rust",
      "display_name": "Rust"
    },
    "language_info": {
      "name": "python"
    }
  },
  "cells": [
    {
      "cell_type": "markdown",
      "metadata": {
        "id": "S9N98cdodFXW"
      },
      "source": [
        "## Copyrighted By Seyed Mohammad Hossein Sefidgar 🚀\n",
        "### Click below button to be directed to Colaboratory. Enjoy!"
      ]
    },
    {
      "cell_type": "markdown",
      "metadata": {
        "id": "l9aLRMv9dPEt"
      },
      "source": [
        "<a href=\"https://colab.research.google.com/github/AI-Professionals/All-Languages-on-the-cloud---Colab/blob/main/Rust.ipynb\" target=\"_parent\"><img src=\"https://colab.research.google.com/assets/colab-badge.svg\" alt=\"Open In Colab\"/></a>"
      ]
    },
    {
      "cell_type": "code",
      "metadata": {
        "id": "8Ymywn00cwco"
      },
      "source": [
        "%%capture\n",
        "!apt install rustc\n",
        "!gdown --id 1PULtTc-2e9z4bswh_SQqL5oy_4JpfV7c\n",
        "!chmod +x evcxr_jupyter\n",
        "!./evcxr_jupyter --install"
      ],
      "execution_count": 1,
      "outputs": []
    },
    {
      "cell_type": "code",
      "metadata": {
        "id": "XNA-gNk7c3ss"
      },
      "source": [
        ""
      ],
      "execution_count": null,
      "outputs": []
    }
  ]
}
